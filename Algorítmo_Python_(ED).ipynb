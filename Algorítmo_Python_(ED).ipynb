{
  "nbformat": 4,
  "nbformat_minor": 0,
  "metadata": {
    "colab": {
      "provenance": []
    },
    "kernelspec": {
      "name": "python3",
      "display_name": "Python 3"
    },
    "language_info": {
      "name": "python"
    }
  },
  "cells": [
    {
      "cell_type": "code",
      "execution_count": 4,
      "metadata": {
        "colab": {
          "base_uri": "https://localhost:8080/"
        },
        "id": "DOHc16OLStSs",
        "outputId": "82bc61dc-f573-43f2-ee26-79f0ae7ac121"
      },
      "outputs": [
        {
          "output_type": "stream",
          "name": "stdout",
          "text": [
            "Melhor_solucao_encontrada: [ 2.72571697e-09  8.65640004e-10 -2.15345210e-09  6.84583483e-10\n",
            "  1.52402436e-09]\n",
            "Valor_dafuncao_objetivo: 0.0\n"
          ]
        }
      ],
      "source": [
        "import numpy as np\n",
        "from scipy . optimize import differential_evolution\n",
        "# F u n o de Rastrigin ( problema de teste em o t i m i z a o )\n",
        "def rastrigin ( x ) :\n",
        "    A = 10\n",
        "    return A * len ( x ) + sum ([( xi **2 - A * np . cos (2* np . pi * xi ) ) for xi in x ])\n",
        "# D e f i n i o dos limites de busca\n",
        "bounds = [( -5.12 , 5.12) ] * 5 # 5 d i m e n s e s\n",
        "# E x e c u o do algoritmo DE\n",
        "result = differential_evolution ( rastrigin , bounds , maxiter =1000 , popsize =15 ,\n",
        "tol =0.01)\n",
        "\n",
        "print(\"Melhor_solucao_encontrada:\", result.x)\n",
        "print(\"Valor_dafuncao_objetivo:\", result.fun)"
      ]
    }
  ]
}